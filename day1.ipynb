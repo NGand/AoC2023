{
 "cells": [
  {
   "cell_type": "markdown",
   "metadata": {},
   "source": [
    "# Day 1 Advent of Code\n",
    "This was a bit harder than I expected for day 1, the actual problem was quite easy (especially when using RegEx) but I misunderstood the requirements in part 2.\n",
    "\n",
    "The only import required was Regex (`re`)"
   ]
  },
  {
   "cell_type": "code",
   "execution_count": 1,
   "metadata": {
    "jukit_cell_id": "ejwOhEE4CA"
   },
   "outputs": [],
   "source": [
    "import re"
   ]
  },
  {
   "cell_type": "markdown",
   "metadata": {},
   "source": [
    "## Common functions\n",
    "Pretty standard common functions. The basic approach is to convert each line into a list of numbers, and pass this to the 'sum_first_and_last' function, which would take the first element of the list, multiply it by 10, and add the second element of that list. The sum of that resulting list would be our answer for both parts."
   ]
  },
  {
   "cell_type": "code",
   "execution_count": 2,
   "metadata": {
    "jukit_cell_id": "D9rECmN9QJ"
   },
   "outputs": [],
   "source": [
    "def readfile(filename):\n",
    "    with open(filename) as f:\n",
    "        puzzle = f.readlines()\n",
    "    return puzzle\n",
    "\n",
    "def sum_first_and_last(partx_puzzle):\n",
    "    return sum([line[0]*10 + line[-1] for line in partx_puzzle if line])"
   ]
  },
  {
   "cell_type": "markdown",
   "metadata": {},
   "source": [
    "## Part 1 Functions\n",
    "this is pretty straightforward, we are simply extracting all digits (marked by `\\d` in the regex string) from the puzzle. The conversion looks like this:\n",
    "\n",
    "    'two8sixbmrmqzrrb1seven': [8, 1],\n",
    "     '9964pfxmmr474': [9, 9, 6, 4, 4, 7, 4],\n",
    "     '46one': [4, 6],\n",
    "     '7fvfourgkfkkbloneeightdrfscspgkdrmzzt1': [7, 1]"
   ]
  },
  {
   "cell_type": "code",
   "execution_count": 3,
   "metadata": {
    "jukit_cell_id": "tq7l8B0idv"
   },
   "outputs": [],
   "source": [
    "def convert_digits_to_int(puzzle):\n",
    "    return[[int(num) for num in re.findall('\\d',line)] for line in puzzle]"
   ]
  },
  {
   "cell_type": "markdown",
   "metadata": {},
   "source": [
    "## Part 2 Functions (using regex)\n",
    "\n",
    "I was initially under the impression that there could be no overlaps, i.e. that a `twone'` could only be `2`. As it turns out `twone` should actually be `2, 1`. The code I initially tried looked identical to the regex code below but without the `(?=(_____))` encapsulation. I'm not particularly strong on RegEx and to get this to work I had to look at somebody else's solution (https://github.com/Hoinkas/AdventOfCode2023/blob/main/FirstDayPuzzle.py) and then read the docs. \n",
    "\n",
    "The final conversion looks like this:\n",
    "\n",
    "    'two8sixbmrmqzrrb1seven': [2, 8, 6, 1, 7],\n",
    "     '9964pfxmmr474': [9, 9, 6, 4, 4, 7, 4],\n",
    "     '46one': [4, 6, 1],\n",
    "     '7fvfourgkfkkbloneightdrfscspgkdrmzzt1': [7, 4, 1, 8, 1]"
   ]
  },
  {
   "cell_type": "code",
   "execution_count": 4,
   "metadata": {
    "jukit_cell_id": "xfwO531JAR"
   },
   "outputs": [],
   "source": [
    "def extract_str_nums_regex(puzzle,numbers):\n",
    "    return[[num for num in re.findall(f'(?=(\\d|{\"|\".join(numbers)}))',line)] for line in puzzle]\n",
    "\n",
    "def convert_str_to_digit(part2_puzzle,numbers):\n",
    "    numdict = {num:i+1 for i,num in enumerate(numbers)}\n",
    "    puzzle = [[int(numdict.get(val, val))  for val in line] for line in part2_puzzle]\n",
    "    return puzzle"
   ]
  },
  {
   "cell_type": "markdown",
   "metadata": {},
   "source": [
    "## Part 2 Functions (using a bodge)\n",
    "This is the code I actually used to get my answer before looking at how to implement RegEx. I basically just spliced the digit into each text representation of a number (e.g. `twone` became `t2wo1ne`). This allowed every overlap to be retained. I then used the same function as in part1 to convert this new string into ints.\n",
    "\n",
    "The intermediate conversion looks like this:\n",
    "\n",
    "    'two8sixbmrmqzrrb1seven': 't2wo8s6ixbmrmqzrrb1s7even',\n",
    "     '9964pfxmmr474': '9964pfxmmr474',\n",
    "     '46one': '46o1ne',\n",
    "     '7fvfourgkfkkbloneeightdrfscspgkdrmzzt1': '7fvf4ourgkfkkblo1nee8ightdrfscspgkdrmzzt1"
   ]
  },
  {
   "cell_type": "code",
   "execution_count": 5,
   "metadata": {
    "jukit_cell_id": "RpFdY2wXhz"
   },
   "outputs": [],
   "source": [
    "def extract_str_nums_bodge(puzzle,numbers):\n",
    "    numdict = {num:num[:1] + str(i+1) + num[1:] for i, num in enumerate(numbers)}\n",
    "    for key,value in numdict.items():\n",
    "        puzzle = [line.replace(key,value) for line in puzzle]\n",
    "    return puzzle"
   ]
  },
  {
   "cell_type": "markdown",
   "metadata": {},
   "source": [
    "# Run the functions for each part\n",
    "\n",
    "From there simply run the functions. I include `__name__ == '__main' ` out of habit, even though there's no realistic chance I ever import these files. "
   ]
  },
  {
   "cell_type": "code",
   "execution_count": 6,
   "metadata": {
    "jukit_cell_id": "ALFrzATMwW"
   },
   "outputs": [
    {
     "name": "stdout",
     "output_type": "stream",
     "text": [
      "answer to the first puzzle is 54605\n",
      "answer to the second puzzle (using regex) is  55429\n",
      "answer to the second puzzle (using a string splice bodge) is  55429\n"
     ]
    }
   ],
   "source": [
    "if __name__ == '__main__':\n",
    "    puzzle = readfile('day1')\n",
    "    part1_puzzle = convert_digits_to_int(puzzle)\n",
    "    print('answer to the first puzzle is', sum_first_and_last(part1_puzzle))\n",
    "\n",
    "    numbers = ['one','two','three','four','five','six','seven','eight','nine']\n",
    "    \n",
    "    part2_puzzle = extract_str_nums_regex(puzzle,numbers)\n",
    "    part2_puzzle = convert_str_to_digit(part2_puzzle,numbers)\n",
    "    print('answer to the second puzzle (using regex) is ',sum_first_and_last(part2_puzzle))\n",
    "\n",
    "    part2_puzzle = extract_str_nums_bodge(puzzle,numbers)\n",
    "    part2_puzzle = convert_digits_to_int(part2_puzzle)\n",
    "    print('answer to the second puzzle (using a string splice bodge) is ',sum_first_and_last(part2_puzzle))"
   ]
  }
 ],
 "metadata": {
  "anaconda-cloud": {},
  "kernelspec": {
   "display_name": "Python 3 (ipykernel)",
   "language": "python",
   "name": "python3"
  },
  "language_info": {
   "codemirror_mode": {
    "name": "ipython",
    "version": 3
   },
   "file_extension": ".py",
   "mimetype": "text/x-python",
   "name": "python",
   "nbconvert_exporter": "python",
   "pygments_lexer": "ipython3",
   "version": "3.10.12"
  }
 },
 "nbformat": 4,
 "nbformat_minor": 4
}
